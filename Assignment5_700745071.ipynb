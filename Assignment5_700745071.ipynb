{
 "cells": [
  {
   "cell_type": "code",
   "execution_count": 1,
   "metadata": {},
   "outputs": [
    {
     "name": "stdout",
     "output_type": "stream",
     "text": [
      "              precision    recall  f1-score   support\n",
      "\n",
      "           1       0.19      0.44      0.27         9\n",
      "           2       0.33      0.16      0.21        19\n",
      "           3       0.33      0.20      0.25         5\n",
      "           5       0.00      0.00      0.00         2\n",
      "           6       0.67      1.00      0.80         2\n",
      "           7       1.00      1.00      1.00         6\n",
      "\n",
      "    accuracy                           0.37        43\n",
      "   macro avg       0.42      0.47      0.42        43\n",
      "weighted avg       0.40      0.37      0.36        43\n",
      "\n",
      "Naive Bayes accuracy is:  37.2093023255814\n"
     ]
    }
   ],
   "source": [
    "#implement the Naive Bayes method using scikit -learn library    \n",
    "import pandas as pd\n",
    "from sklearn.model_selection import train_test_split\n",
    "from sklearn.naive_bayes import GaussianNB\n",
    "from sklearn.metrics import classification_report, accuracy_score\n",
    "\n",
    "#use the dataset available with the name glass\n",
    "#This line reads the dataset from the CSV file located at the specified path and assigns it to the variable glass_data.\n",
    "glass_data = pd.read_csv('C://ALL//photos//ALL_FILES//CourseWork//Neural_Networks////NNDL_Code and Data//glass.csv')\n",
    "\n",
    "#This creates the feature matrix x_train by dropping the column named \"Type\" from the glass_data.\n",
    "x_train = glass_data.drop(\"Type\", axis=1)\n",
    "y_train = glass_data['Type'] #This creates the target vector y_train by selecting only the column named \"Type\" from the glass_data.\n",
    "\n",
    "#use test_train_split to create training and testing part\n",
    "x_train, x_test, y_train, y_test = train_test_split(x_train, y_train, test_size=0.2, random_state=0) #This line splits the data into training and testing sets.\n",
    "\n",
    "# Train the model using the training sets\n",
    "classifier = GaussianNB() #This instantiates a Gaussian Naive Bayes classifier\n",
    "classifier.fit(x_train, y_train) #This trains the classifier on the training data using the fit() method\n",
    "y_pred = classifier.predict(x_test) #This line generates predictions for the test data x_test using the trained classifier's predict() method.\n",
    "\n",
    "# Classification report \n",
    "c_report = classification_report(y_test, y_pred) #This line generates a classification report\n",
    "print(c_report)\n",
    "\n",
    "#evaluate the model on test part using score\n",
    "print(\"Naive Bayes accuracy is: \",  (accuracy_score(y_test, y_pred))*100) #This line prints the accuracy of the Naive Bayes classifier on the test data.\n"
   ]
  },
  {
   "cell_type": "code",
   "execution_count": 2,
   "metadata": {},
   "outputs": [
    {
     "name": "stdout",
     "output_type": "stream",
     "text": [
      "              precision    recall  f1-score   support\n",
      "\n",
      "           1       0.21      1.00      0.35         9\n",
      "           2       0.00      0.00      0.00        19\n",
      "           3       0.00      0.00      0.00         5\n",
      "           5       0.00      0.00      0.00         2\n",
      "           6       0.00      0.00      0.00         2\n",
      "           7       0.00      0.00      0.00         6\n",
      "\n",
      "    accuracy                           0.21        43\n",
      "   macro avg       0.03      0.17      0.06        43\n",
      "weighted avg       0.04      0.21      0.07        43\n",
      "\n",
      "SVM accuracy is:  20.930232558139537\n"
     ]
    }
   ],
   "source": [
    "#implement the linear SVM method using scikit -learn library    \n",
    "import pandas as pd\n",
    "from sklearn.model_selection import train_test_split\n",
    "from sklearn.svm import SVC\n",
    "from sklearn.metrics import classification_report, accuracy_score\n",
    "\n",
    "#use the same dataset above\n",
    "glass_data = pd.read_csv('C://ALL//photos//ALL_FILES//CourseWork//Neural_Networks////NNDL_Code and Data//glass.csv')\n",
    "\n",
    "x_train = glass_data.drop(\"Type\", axis=1) #Creates the feature matrix x_train by dropping the \"Type\" column from glass_data.\n",
    "y_train = glass_data['Type'] #Creates the target vector y_train by selecting only the \"Type\" column from glass_data.\n",
    "\n",
    "#use test_train_split to create training and testing part\n",
    "x_train, x_test, y_train, y_test = train_test_split(x_train, y_train, test_size=0.2, random_state=0) #Splits the dataset into training and testing sets\n",
    "\n",
    "# Train the model using the training sets\n",
    "classifier= SVC() #Instantiates a Support Vector Classifier (SVC) object\n",
    "classifier.fit(x_train, y_train) #rains the SVC model using the training data and corresponding labels.\n",
    "y_pred = classifier.predict(x_test) #Predicts the labels for the test data \n",
    "\n",
    "# Classification report \n",
    "c_report = classification_report(y_test, y_pred, zero_division = 0) # Generates a classification report\n",
    "print(c_report)\n",
    "\n",
    "#evaluate the model on test part using score\n",
    "print(\"SVM accuracy is: \", accuracy_score(y_test, y_pred) * 100) \n"
   ]
  },
  {
   "cell_type": "markdown",
   "metadata": {},
   "source": [
    "Note:\n",
    "Comparing both the result, Naive Bayes accuracy is 37.2093023255814 more than SVM accuracy."
   ]
  }
 ],
 "metadata": {
  "kernelspec": {
   "display_name": "base",
   "language": "python",
   "name": "python3"
  },
  "language_info": {
   "codemirror_mode": {
    "name": "ipython",
    "version": 3
   },
   "file_extension": ".py",
   "mimetype": "text/x-python",
   "name": "python",
   "nbconvert_exporter": "python",
   "pygments_lexer": "ipython3",
   "version": "3.11.5"
  }
 },
 "nbformat": 4,
 "nbformat_minor": 2
}
